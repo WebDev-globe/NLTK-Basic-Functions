{
 "cells": [
  {
   "cell_type": "markdown",
   "id": "6a71ec59",
   "metadata": {},
   "source": [
    "# NLTK ( Natural Language Toolkit ) Functions"
   ]
  },
  {
   "cell_type": "code",
   "execution_count": 2,
   "id": "a2b19af3",
   "metadata": {},
   "outputs": [],
   "source": [
    "import os\n",
    "import nltk\n",
    "import nltk.corpus"
   ]
  },
  {
   "cell_type": "code",
   "execution_count": 3,
   "id": "adbf63ea",
   "metadata": {},
   "outputs": [
    {
     "name": "stdout",
     "output_type": "stream",
     "text": [
      "['unicode_samples', 'mte_teip5.zip', 'indian', 'stopwords', 'brown', 'swadesh', 'mac_morpho', 'conll2002.zip', 'indian.zip', 'abc', 'comparative_sentences', 'brown_tei.zip', 'cmudict.zip', 'conll2000.zip', 'universal_treebanks_v20.zip', 'words', 'pros_cons', 'udhr2', 'nonbreaking_prefixes.zip', 'lin_thesaurus', 'webtext', 'smultron.zip', 'names', 'sentiwordnet', 'dolch.zip', 'wordnet_ic.zip', 'brown.zip', 'alpino.zip', 'panlex_swadesh.zip', 'cmudict', 'sinica_treebank.zip', 'treebank.zip', 'ptb', 'inaugural', 'ppattach.zip', 'dependency_treebank.zip', 'opinion_lexicon.zip', 'cess_esp.zip', 'product_reviews_2', 'genesis.zip', 'reuters.zip', 'conll2007.zip', 'conll2002', 'comparative_sentences.zip', 'switchboard.zip', 'cess_cat.zip', 'udhr.zip', 'subjectivity.zip', 'pl196x.zip', 'ieer', 'problem_reports', 'timit.zip', 'floresta', 'paradigms.zip', 'gazetteers.zip', 'wordnet.zip', 'inaugural.zip', 'sinica_treebank', 'stopwords.zip', 'verbnet.zip', 'gutenberg', 'ieer.zip', 'ycoe.zip', 'shakespeare.zip', 'sentence_polarity', 'kimmo.zip', 'chat80.zip', 'kimmo', 'qc.zip', 'nonbreaking_prefixes', 'senseval', 'verbnet', 'udhr2.zip', 'senseval.zip', 'chat80', 'framenet_v15.zip', 'unicode_samples.zip', 'biocreative_ppi', 'framenet_v17', 'words.zip', 'pil', 'alpino', 'omw', 'cess_cat', 'shakespeare', 'city_database', 'product_reviews_2.zip', 'abc.zip', 'europarl_raw', 'sentiwordnet.zip', 'rte.zip', 'movie_reviews', 'toolbox.zip', 'product_reviews_1.zip', 'omw.zip', 'jeita.zip', 'wordnet_ic', 'names.zip', 'conll2000', 'dependency_treebank', 'floresta.zip', 'nombank.1.0.zip', 'wordnet', 'cess_esp', 'ptb.zip', 'mac_morpho.zip', 'knbc.zip', 'opinion_lexicon', 'toolbox', 'comtrans.zip', 'swadesh.zip', 'propbank.zip', 'mte_teip5', 'gutenberg.zip', 'product_reviews_1', 'twitter_samples.zip', 'treebank', 'state_union.zip', 'machado.zip', 'rte', 'nps_chat', 'crubadan', 'semcor.zip', 'biocreative_ppi.zip', 'ppattach', 'europarl_raw.zip', 'switchboard', 'brown_tei', 'verbnet3.zip', 'verbnet3', 'crubadan.zip', 'pil.zip', 'ycoe', 'webtext.zip', 'sentence_polarity.zip', 'timit', 'pl196x', 'nps_chat.zip', 'state_union', 'city_database.zip', 'subjectivity', 'framenet_v15', 'masc_tagged.zip', 'paradigms', 'genesis', 'gazetteers', 'twitter_samples', 'qc', 'udhr', 'movie_reviews.zip', 'dolch', 'problem_reports.zip', 'smultron', 'pros_cons.zip']\n"
     ]
    }
   ],
   "source": [
    "print(os.listdir(nltk.data.find(\"corpora\")))"
   ]
  },
  {
   "cell_type": "code",
   "execution_count": 10,
   "id": "bed943d8",
   "metadata": {},
   "outputs": [
    {
     "data": {
      "text/plain": [
       "['austen-emma.txt',\n",
       " 'austen-persuasion.txt',\n",
       " 'austen-sense.txt',\n",
       " 'bible-kjv.txt',\n",
       " 'blake-poems.txt',\n",
       " 'bryant-stories.txt',\n",
       " 'burgess-busterbrown.txt',\n",
       " 'carroll-alice.txt',\n",
       " 'chesterton-ball.txt',\n",
       " 'chesterton-brown.txt',\n",
       " 'chesterton-thursday.txt',\n",
       " 'edgeworth-parents.txt',\n",
       " 'melville-moby_dick.txt',\n",
       " 'milton-paradise.txt',\n",
       " 'shakespeare-caesar.txt',\n",
       " 'shakespeare-hamlet.txt',\n",
       " 'shakespeare-macbeth.txt',\n",
       " 'whitman-leaves.txt']"
      ]
     },
     "execution_count": 10,
     "metadata": {},
     "output_type": "execute_result"
    }
   ],
   "source": [
    "from nltk.corpus import brown\n",
    "nltk.corpus.gutenberg.fileids()"
   ]
  },
  {
   "cell_type": "code",
   "execution_count": 12,
   "id": "8ba1a6a1",
   "metadata": {},
   "outputs": [
    {
     "data": {
      "text/plain": [
       "['[', 'The', 'Tragedie', 'of', 'Hamlet', 'by', ...]"
      ]
     },
     "execution_count": 12,
     "metadata": {},
     "output_type": "execute_result"
    }
   ],
   "source": [
    "hamlet=nltk.corpus.gutenberg.words('shakespeare-hamlet.txt')\n",
    "hamlet"
   ]
  },
  {
   "cell_type": "code",
   "execution_count": 29,
   "id": "061b899e",
   "metadata": {},
   "outputs": [
    {
     "name": "stdout",
     "output_type": "stream",
     "text": [
      "[ The Tragedie of Hamlet by William Shakespeare 1599 ] Actus Primus . Scoena Prima . Enter Barnardo and Francisco two Centinels . Barnardo . Who ' s there ? Fran . Nay answer me : Stand & vnfold your selfe Bar . Long liue the King Fran . Barnardo ? Bar . He Fran . You come most carefully vpon your houre Bar . ' Tis now strook twelue , get thee to bed Francisco Fran . For this releefe much thankes : ' Tis bitter cold , And I am sicke at heart Barn . Haue you had quiet Guard ? Fran . Not a Mouse stirring Barn . Well , goodnight . If you do meet Horatio and Marcellus , the Riuals of my Watch , bid them make hast . Enter Horatio and Marcellus . Fran . I thinke I heare them . Stand : who ' s there ? Hor . Friends to this ground Mar . And Leige - men to the Dane Fran . Giue you good night Mar . O farwel honest Soldier , who hath relieu ' d you ? Fra . Barnardo ha ' s my place : giue you goodnight . Exit Fran . Mar . Holla Barnardo Bar . Say , what is Horatio there ? Hor . A peece of him Bar . Welcome Horatio , welcome good Marcellus Mar . What , ha ' s this thing appear ' d againe to night Bar . I haue seene nothing Mar . Horatio saies , ' tis but our Fantasie , And will not let beleefe take hold of him Touching this dreaded sight , twice seene of vs , Therefore I haue intreated him along With vs , to watch the minutes of this Night , That if againe this Apparition come , He may approue our eyes , and speake to it Hor . Tush , tush , ' twill not appeare Bar . Sit downe a - while , And let vs once againe assaile your eares , That are so fortified against our Story , What we two Nights haue seene Hor . Well , sit we downe , And let vs heare Barnardo speake of this Barn . Last night of all , When yond same Starre that ' s Westward from the Pole Had made his course t ' illume that part of Heauen Where now it burnes , Marcellus and my selfe , The Bell then beating one Mar . Peace , breake thee of : Enter the Ghost . Looke where it comes againe Barn . In the same figure , like the King that ' s dead Mar . Thou art a Scholler ; speake to it Horatio Barn . Lookes it not like the King ? Marke it Horatio Hora . Most like : It harrowes me with fear & wonder Barn . It would be spoke too Mar . Question it Horatio Hor . What art "
     ]
    }
   ],
   "source": [
    "for word in hamlet[:500]:\n",
    "    print(word, sep='  ',end=' ')"
   ]
  },
  {
   "cell_type": "code",
   "execution_count": 30,
   "id": "13389695",
   "metadata": {},
   "outputs": [],
   "source": [
    "AI=\"\"\"Go originated in China over 3,000 years ago. Winning this board game requires multiple layers of strategic thinking.\n",
    "\n",
    "Two players, using either white or black stones, take turns placing their stones on a board. The goal is to surround and capture their opponent's stones or strategically create spaces of territory. Once all possible moves have been played, both the stones on the board and the empty points are tallied. The highest number wins. \n",
    "\n",
    "As simple as the rules may seem, Go is profoundly complex. There are an astonishing 10 to the power of 170 possible board configurations - more than the number of atoms in the known universe. This makes the game of Go a googol times more complex than chess.\"\"\""
   ]
  },
  {
   "cell_type": "code",
   "execution_count": 31,
   "id": "55458450",
   "metadata": {
    "scrolled": true
   },
   "outputs": [
    {
     "data": {
      "text/plain": [
       "\"Go originated in China over 3,000 years ago. Winning this board game requires multiple layers of strategic thinking.\\n\\nTwo players, using either white or black stones, take turns placing their stones on a board. The goal is to surround and capture their opponent's stones or strategically create spaces of territory. Once all possible moves have been played, both the stones on the board and the empty points are tallied. The highest number wins. \\n\\nAs simple as the rules may seem, Go is profoundly complex. There are an astonishing 10 to the power of 170 possible board configurations - more than the number of atoms in the known universe. This makes the game of Go a googol times more complex than chess.\""
      ]
     },
     "execution_count": 31,
     "metadata": {},
     "output_type": "execute_result"
    }
   ],
   "source": [
    "AI\n",
    "\n"
   ]
  },
  {
   "cell_type": "code",
   "execution_count": 33,
   "id": "e0901225",
   "metadata": {},
   "outputs": [
    {
     "data": {
      "text/plain": [
       "str"
      ]
     },
     "execution_count": 33,
     "metadata": {},
     "output_type": "execute_result"
    }
   ],
   "source": [
    "type(AI)"
   ]
  },
  {
   "cell_type": "markdown",
   "id": "19e33608",
   "metadata": {},
   "source": [
    "## Tokenize"
   ]
  },
  {
   "cell_type": "code",
   "execution_count": 34,
   "id": "4d296de9",
   "metadata": {},
   "outputs": [],
   "source": [
    "from nltk.tokenize import word_tokenize"
   ]
  },
  {
   "cell_type": "code",
   "execution_count": 35,
   "id": "79ec0da9",
   "metadata": {},
   "outputs": [
    {
     "data": {
      "text/plain": [
       "['Go',\n",
       " 'originated',\n",
       " 'in',\n",
       " 'China',\n",
       " 'over',\n",
       " '3,000',\n",
       " 'years',\n",
       " 'ago',\n",
       " '.',\n",
       " 'Winning',\n",
       " 'this',\n",
       " 'board',\n",
       " 'game',\n",
       " 'requires',\n",
       " 'multiple',\n",
       " 'layers',\n",
       " 'of',\n",
       " 'strategic',\n",
       " 'thinking',\n",
       " '.',\n",
       " 'Two',\n",
       " 'players',\n",
       " ',',\n",
       " 'using',\n",
       " 'either',\n",
       " 'white',\n",
       " 'or',\n",
       " 'black',\n",
       " 'stones',\n",
       " ',',\n",
       " 'take',\n",
       " 'turns',\n",
       " 'placing',\n",
       " 'their',\n",
       " 'stones',\n",
       " 'on',\n",
       " 'a',\n",
       " 'board',\n",
       " '.',\n",
       " 'The',\n",
       " 'goal',\n",
       " 'is',\n",
       " 'to',\n",
       " 'surround',\n",
       " 'and',\n",
       " 'capture',\n",
       " 'their',\n",
       " 'opponent',\n",
       " \"'s\",\n",
       " 'stones',\n",
       " 'or',\n",
       " 'strategically',\n",
       " 'create',\n",
       " 'spaces',\n",
       " 'of',\n",
       " 'territory',\n",
       " '.',\n",
       " 'Once',\n",
       " 'all',\n",
       " 'possible',\n",
       " 'moves',\n",
       " 'have',\n",
       " 'been',\n",
       " 'played',\n",
       " ',',\n",
       " 'both',\n",
       " 'the',\n",
       " 'stones',\n",
       " 'on',\n",
       " 'the',\n",
       " 'board',\n",
       " 'and',\n",
       " 'the',\n",
       " 'empty',\n",
       " 'points',\n",
       " 'are',\n",
       " 'tallied',\n",
       " '.',\n",
       " 'The',\n",
       " 'highest',\n",
       " 'number',\n",
       " 'wins',\n",
       " '.',\n",
       " 'As',\n",
       " 'simple',\n",
       " 'as',\n",
       " 'the',\n",
       " 'rules',\n",
       " 'may',\n",
       " 'seem',\n",
       " ',',\n",
       " 'Go',\n",
       " 'is',\n",
       " 'profoundly',\n",
       " 'complex',\n",
       " '.',\n",
       " 'There',\n",
       " 'are',\n",
       " 'an',\n",
       " 'astonishing',\n",
       " '10',\n",
       " 'to',\n",
       " 'the',\n",
       " 'power',\n",
       " 'of',\n",
       " '170',\n",
       " 'possible',\n",
       " 'board',\n",
       " 'configurations',\n",
       " '-',\n",
       " 'more',\n",
       " 'than',\n",
       " 'the',\n",
       " 'number',\n",
       " 'of',\n",
       " 'atoms',\n",
       " 'in',\n",
       " 'the',\n",
       " 'known',\n",
       " 'universe',\n",
       " '.',\n",
       " 'This',\n",
       " 'makes',\n",
       " 'the',\n",
       " 'game',\n",
       " 'of',\n",
       " 'Go',\n",
       " 'a',\n",
       " 'googol',\n",
       " 'times',\n",
       " 'more',\n",
       " 'complex',\n",
       " 'than',\n",
       " 'chess',\n",
       " '.']"
      ]
     },
     "execution_count": 35,
     "metadata": {},
     "output_type": "execute_result"
    }
   ],
   "source": [
    "AI_tokens = word_tokenize(AI)\n",
    "AI_tokens"
   ]
  },
  {
   "cell_type": "code",
   "execution_count": 36,
   "id": "16be5d72",
   "metadata": {},
   "outputs": [
    {
     "data": {
      "text/plain": [
       "135"
      ]
     },
     "execution_count": 36,
     "metadata": {},
     "output_type": "execute_result"
    }
   ],
   "source": [
    "len(AI_tokens)"
   ]
  },
  {
   "cell_type": "code",
   "execution_count": 39,
   "id": "e4becbfa",
   "metadata": {},
   "outputs": [
    {
     "data": {
      "text/plain": [
       "nltk.probability.FreqDist"
      ]
     },
     "execution_count": 39,
     "metadata": {},
     "output_type": "execute_result"
    }
   ],
   "source": [
    "from nltk.probability import FreqDist\n",
    "fdist = FreqDist()"
   ]
  },
  {
   "cell_type": "code",
   "execution_count": 41,
   "id": "b737785b",
   "metadata": {},
   "outputs": [
    {
     "data": {
      "text/plain": [
       "FreqDist({'the': 10, '.': 9, 'of': 5, 'board': 4, ',': 4, 'stones': 4, 'go': 3, 'in': 2, 'this': 2, 'game': 2, ...})"
      ]
     },
     "execution_count": 41,
     "metadata": {},
     "output_type": "execute_result"
    }
   ],
   "source": [
    "for word in AI_tokens:\n",
    "    fdist[word.lower()]+=1\n",
    "fdist"
   ]
  },
  {
   "cell_type": "code",
   "execution_count": 44,
   "id": "4cd321e5",
   "metadata": {},
   "outputs": [
    {
     "data": {
      "text/plain": [
       "3"
      ]
     },
     "execution_count": 44,
     "metadata": {},
     "output_type": "execute_result"
    }
   ],
   "source": [
    "fdist['go']"
   ]
  },
  {
   "cell_type": "code",
   "execution_count": 45,
   "id": "64d998e0",
   "metadata": {},
   "outputs": [
    {
     "data": {
      "text/plain": [
       "86"
      ]
     },
     "execution_count": 45,
     "metadata": {},
     "output_type": "execute_result"
    }
   ],
   "source": [
    "len(fdist)"
   ]
  },
  {
   "cell_type": "code",
   "execution_count": 47,
   "id": "24dcd67c",
   "metadata": {},
   "outputs": [
    {
     "data": {
      "text/plain": [
       "[('the', 10),\n",
       " ('.', 9),\n",
       " ('of', 5),\n",
       " ('board', 4),\n",
       " (',', 4),\n",
       " ('stones', 4),\n",
       " ('go', 3),\n",
       " ('in', 2),\n",
       " ('this', 2),\n",
       " ('game', 2),\n",
       " ('or', 2),\n",
       " ('their', 2)]"
      ]
     },
     "execution_count": 47,
     "metadata": {},
     "output_type": "execute_result"
    }
   ],
   "source": [
    "fdist_top10 = fdist.most_common(12)\n",
    "fdist_top10"
   ]
  },
  {
   "cell_type": "markdown",
   "id": "94178a44",
   "metadata": {},
   "source": [
    "### Bigrams, Trigrams & Ngrams"
   ]
  },
  {
   "cell_type": "code",
   "execution_count": 48,
   "id": "55175675",
   "metadata": {},
   "outputs": [],
   "source": [
    "from nltk.util import bigrams, trigrams, ngrams"
   ]
  },
  {
   "cell_type": "code",
   "execution_count": 49,
   "id": "7d437302",
   "metadata": {},
   "outputs": [],
   "source": [
    "string = \"ALphaGo is a beatiful piece of engineering and it is a pivotal part for the future\""
   ]
  },
  {
   "cell_type": "code",
   "execution_count": 51,
   "id": "458b506b",
   "metadata": {},
   "outputs": [],
   "source": [
    "quotes_token=nltk.word_tokenize(string)"
   ]
  },
  {
   "cell_type": "code",
   "execution_count": 52,
   "id": "78e5ae4a",
   "metadata": {},
   "outputs": [
    {
     "data": {
      "text/plain": [
       "['ALphaGo',\n",
       " 'is',\n",
       " 'a',\n",
       " 'beatiful',\n",
       " 'piece',\n",
       " 'of',\n",
       " 'engineering',\n",
       " 'and',\n",
       " 'it',\n",
       " 'is',\n",
       " 'a',\n",
       " 'pivotal',\n",
       " 'part',\n",
       " 'for',\n",
       " 'the',\n",
       " 'future']"
      ]
     },
     "execution_count": 52,
     "metadata": {},
     "output_type": "execute_result"
    }
   ],
   "source": [
    "quotes_token"
   ]
  },
  {
   "cell_type": "code",
   "execution_count": 55,
   "id": "8b75293c",
   "metadata": {},
   "outputs": [
    {
     "data": {
      "text/plain": [
       "[('ALphaGo', 'is'),\n",
       " ('is', 'a'),\n",
       " ('a', 'beatiful'),\n",
       " ('beatiful', 'piece'),\n",
       " ('piece', 'of'),\n",
       " ('of', 'engineering'),\n",
       " ('engineering', 'and'),\n",
       " ('and', 'it'),\n",
       " ('it', 'is'),\n",
       " ('is', 'a'),\n",
       " ('a', 'pivotal'),\n",
       " ('pivotal', 'part'),\n",
       " ('part', 'for'),\n",
       " ('for', 'the'),\n",
       " ('the', 'future')]"
      ]
     },
     "execution_count": 55,
     "metadata": {},
     "output_type": "execute_result"
    }
   ],
   "source": [
    "quote_bigrams=list(nltk.bigrams(quotes_token))\n",
    "quote_bigrams"
   ]
  },
  {
   "cell_type": "code",
   "execution_count": 56,
   "id": "645f484b",
   "metadata": {},
   "outputs": [
    {
     "data": {
      "text/plain": [
       "[('ALphaGo', 'is', 'a'),\n",
       " ('is', 'a', 'beatiful'),\n",
       " ('a', 'beatiful', 'piece'),\n",
       " ('beatiful', 'piece', 'of'),\n",
       " ('piece', 'of', 'engineering'),\n",
       " ('of', 'engineering', 'and'),\n",
       " ('engineering', 'and', 'it'),\n",
       " ('and', 'it', 'is'),\n",
       " ('it', 'is', 'a'),\n",
       " ('is', 'a', 'pivotal'),\n",
       " ('a', 'pivotal', 'part'),\n",
       " ('pivotal', 'part', 'for'),\n",
       " ('part', 'for', 'the'),\n",
       " ('for', 'the', 'future')]"
      ]
     },
     "execution_count": 56,
     "metadata": {},
     "output_type": "execute_result"
    }
   ],
   "source": [
    "quote_trigrams=list(nltk.trigrams(quotes_token))\n",
    "quote_trigrams"
   ]
  },
  {
   "cell_type": "code",
   "execution_count": 60,
   "id": "32d4e543",
   "metadata": {},
   "outputs": [
    {
     "data": {
      "text/plain": [
       "[('ALphaGo', 'is', 'a', 'beatiful', 'piece'),\n",
       " ('is', 'a', 'beatiful', 'piece', 'of'),\n",
       " ('a', 'beatiful', 'piece', 'of', 'engineering'),\n",
       " ('beatiful', 'piece', 'of', 'engineering', 'and'),\n",
       " ('piece', 'of', 'engineering', 'and', 'it'),\n",
       " ('of', 'engineering', 'and', 'it', 'is'),\n",
       " ('engineering', 'and', 'it', 'is', 'a'),\n",
       " ('and', 'it', 'is', 'a', 'pivotal'),\n",
       " ('it', 'is', 'a', 'pivotal', 'part'),\n",
       " ('is', 'a', 'pivotal', 'part', 'for'),\n",
       " ('a', 'pivotal', 'part', 'for', 'the'),\n",
       " ('pivotal', 'part', 'for', 'the', 'future')]"
      ]
     },
     "execution_count": 60,
     "metadata": {},
     "output_type": "execute_result"
    }
   ],
   "source": [
    "quote_ngrams=list(nltk.ngrams(quotes_token,5))\n",
    "quote_ngrams"
   ]
  },
  {
   "cell_type": "markdown",
   "id": "d2ed84ff",
   "metadata": {},
   "source": [
    "## Stemming"
   ]
  },
  {
   "cell_type": "code",
   "execution_count": 68,
   "id": "f3e6f450",
   "metadata": {},
   "outputs": [],
   "source": [
    "from nltk.stem import PorterStemmer\n",
    "pst=PorterStemmer()"
   ]
  },
  {
   "cell_type": "code",
   "execution_count": 70,
   "id": "280292a2",
   "metadata": {},
   "outputs": [
    {
     "data": {
      "text/plain": [
       "'give'"
      ]
     },
     "execution_count": 70,
     "metadata": {},
     "output_type": "execute_result"
    }
   ],
   "source": [
    "pst.stem(\"giving\")"
   ]
  },
  {
   "cell_type": "code",
   "execution_count": 73,
   "id": "5cbc73c0",
   "metadata": {},
   "outputs": [
    {
     "name": "stdout",
     "output_type": "stream",
     "text": [
      "give : give\n",
      "giving : give\n",
      "gave : gave\n",
      "given : given\n"
     ]
    }
   ],
   "source": [
    "words_to_stem=[\"give\",\"giving\",\"gave\",\"given\"]\n",
    "for words in wordsfrom nlt_to_stem:\n",
    "    print(words+ \" : \" +pst.stem(words))"
   ]
  },
  {
   "cell_type": "markdown",
   "id": "fed0a83e",
   "metadata": {},
   "source": [
    "## Lemmatization"
   ]
  },
  {
   "cell_type": "code",
   "execution_count": 81,
   "id": "d6c5de14",
   "metadata": {},
   "outputs": [],
   "source": [
    "from nltk.stem import wordnet\n",
    "from nltk.stem import WordNetLemmatizer\n",
    "word_lem=WordNetLemmatizer()"
   ]
  },
  {
   "cell_type": "code",
   "execution_count": 86,
   "id": "5e9ff191",
   "metadata": {},
   "outputs": [
    {
     "data": {
      "text/plain": [
       "'corpus'"
      ]
     },
     "execution_count": 86,
     "metadata": {},
     "output_type": "execute_result"
    }
   ],
   "source": [
    "word_lem.lemmatize('corpora')"
   ]
  },
  {
   "cell_type": "markdown",
   "id": "f88e215d",
   "metadata": {},
   "source": [
    "## Stopwords"
   ]
  },
  {
   "cell_type": "code",
   "execution_count": 90,
   "id": "4334b439",
   "metadata": {},
   "outputs": [
    {
     "data": {
      "text/plain": [
       "179"
      ]
     },
     "execution_count": 90,
     "metadata": {},
     "output_type": "execute_result"
    }
   ],
   "source": [
    "from nltk.corpus import stopwords\n",
    "len(stopwords.words('english'))"
   ]
  },
  {
   "cell_type": "code",
   "execution_count": 92,
   "id": "b69cbed0",
   "metadata": {},
   "outputs": [
    {
     "data": {
      "text/plain": [
       "['i',\n",
       " 'me',\n",
       " 'my',\n",
       " 'myself',\n",
       " 'we',\n",
       " 'our',\n",
       " 'ours',\n",
       " 'ourselves',\n",
       " 'you',\n",
       " \"you're\",\n",
       " \"you've\",\n",
       " \"you'll\",\n",
       " \"you'd\",\n",
       " 'your',\n",
       " 'yours',\n",
       " 'yourself',\n",
       " 'yourselves',\n",
       " 'he',\n",
       " 'him',\n",
       " 'his',\n",
       " 'himself',\n",
       " 'she',\n",
       " \"she's\",\n",
       " 'her',\n",
       " 'hers',\n",
       " 'herself',\n",
       " 'it',\n",
       " \"it's\",\n",
       " 'its',\n",
       " 'itself',\n",
       " 'they',\n",
       " 'them',\n",
       " 'their',\n",
       " 'theirs',\n",
       " 'themselves',\n",
       " 'what',\n",
       " 'which',\n",
       " 'who',\n",
       " 'whom',\n",
       " 'this',\n",
       " 'that',\n",
       " \"that'll\",\n",
       " 'these',\n",
       " 'those',\n",
       " 'am',\n",
       " 'is',\n",
       " 'are',\n",
       " 'was',\n",
       " 'were',\n",
       " 'be',\n",
       " 'been',\n",
       " 'being',\n",
       " 'have',\n",
       " 'has',\n",
       " 'had',\n",
       " 'having',\n",
       " 'do',\n",
       " 'does',\n",
       " 'did',\n",
       " 'doing',\n",
       " 'a',\n",
       " 'an',\n",
       " 'the',\n",
       " 'and',\n",
       " 'but',\n",
       " 'if',\n",
       " 'or',\n",
       " 'because',\n",
       " 'as',\n",
       " 'until',\n",
       " 'while',\n",
       " 'of',\n",
       " 'at',\n",
       " 'by',\n",
       " 'for',\n",
       " 'with',\n",
       " 'about',\n",
       " 'against',\n",
       " 'between',\n",
       " 'into',\n",
       " 'through',\n",
       " 'during',\n",
       " 'before',\n",
       " 'after',\n",
       " 'above',\n",
       " 'below',\n",
       " 'to',\n",
       " 'from',\n",
       " 'up',\n",
       " 'down',\n",
       " 'in',\n",
       " 'out',\n",
       " 'on',\n",
       " 'off',\n",
       " 'over',\n",
       " 'under',\n",
       " 'again',\n",
       " 'further',\n",
       " 'then',\n",
       " 'once',\n",
       " 'here',\n",
       " 'there',\n",
       " 'when',\n",
       " 'where',\n",
       " 'why',\n",
       " 'how',\n",
       " 'all',\n",
       " 'any',\n",
       " 'both',\n",
       " 'each',\n",
       " 'few',\n",
       " 'more',\n",
       " 'most',\n",
       " 'other',\n",
       " 'some',\n",
       " 'such',\n",
       " 'no',\n",
       " 'nor',\n",
       " 'not',\n",
       " 'only',\n",
       " 'own',\n",
       " 'same',\n",
       " 'so',\n",
       " 'than',\n",
       " 'too',\n",
       " 'very',\n",
       " 's',\n",
       " 't',\n",
       " 'can',\n",
       " 'will',\n",
       " 'just',\n",
       " 'don',\n",
       " \"don't\",\n",
       " 'should',\n",
       " \"should've\",\n",
       " 'now',\n",
       " 'd',\n",
       " 'll',\n",
       " 'm',\n",
       " 'o',\n",
       " 're',\n",
       " 've',\n",
       " 'y',\n",
       " 'ain',\n",
       " 'aren',\n",
       " \"aren't\",\n",
       " 'couldn',\n",
       " \"couldn't\",\n",
       " 'didn',\n",
       " \"didn't\",\n",
       " 'doesn',\n",
       " \"doesn't\",\n",
       " 'hadn',\n",
       " \"hadn't\",\n",
       " 'hasn',\n",
       " \"hasn't\",\n",
       " 'haven',\n",
       " \"haven't\",\n",
       " 'isn',\n",
       " \"isn't\",\n",
       " 'ma',\n",
       " 'mightn',\n",
       " \"mightn't\",\n",
       " 'mustn',\n",
       " \"mustn't\",\n",
       " 'needn',\n",
       " \"needn't\",\n",
       " 'shan',\n",
       " \"shan't\",\n",
       " 'shouldn',\n",
       " \"shouldn't\",\n",
       " 'wasn',\n",
       " \"wasn't\",\n",
       " 'weren',\n",
       " \"weren't\",\n",
       " 'won',\n",
       " \"won't\",\n",
       " 'wouldn',\n",
       " \"wouldn't\"]"
      ]
     },
     "execution_count": 92,
     "metadata": {},
     "output_type": "execute_result"
    }
   ],
   "source": [
    "stopwords.words('english')"
   ]
  },
  {
   "cell_type": "code",
   "execution_count": 93,
   "id": "de2dd5ce",
   "metadata": {},
   "outputs": [
    {
     "data": {
      "text/plain": [
       "[('the', 10),\n",
       " ('.', 9),\n",
       " ('of', 5),\n",
       " ('board', 4),\n",
       " (',', 4),\n",
       " ('stones', 4),\n",
       " ('go', 3),\n",
       " ('in', 2),\n",
       " ('this', 2),\n",
       " ('game', 2),\n",
       " ('or', 2),\n",
       " ('their', 2)]"
      ]
     },
     "execution_count": 93,
     "metadata": {},
     "output_type": "execute_result"
    }
   ],
   "source": [
    "fdist_top10"
   ]
  },
  {
   "cell_type": "markdown",
   "id": "43c420b2",
   "metadata": {},
   "source": [
    "### Removing punctuations"
   ]
  },
  {
   "cell_type": "code",
   "execution_count": 95,
   "id": "7ffb39e2",
   "metadata": {},
   "outputs": [],
   "source": [
    "import re\n",
    "punctuation=re.compile(r'[-.?!,:;()[0-9]')"
   ]
  },
  {
   "cell_type": "code",
   "execution_count": 99,
   "id": "e10d22f8",
   "metadata": {},
   "outputs": [],
   "source": [
    "post_punctuation=[]\n",
    "for words in quotes_token:\n",
    "    word=punctuation.sub(\"\",words)\n",
    "    if len(word)>0:\n",
    "        post_punctuation.append(word)"
   ]
  },
  {
   "cell_type": "code",
   "execution_count": 100,
   "id": "80622f39",
   "metadata": {},
   "outputs": [
    {
     "data": {
      "text/plain": [
       "['ALphaGo',\n",
       " 'is',\n",
       " 'a',\n",
       " 'beatiful',\n",
       " 'piece',\n",
       " 'of',\n",
       " 'engineering',\n",
       " 'and',\n",
       " 'it',\n",
       " 'is',\n",
       " 'a',\n",
       " 'pivotal',\n",
       " 'part',\n",
       " 'for',\n",
       " 'the',\n",
       " 'future']"
      ]
     },
     "execution_count": 100,
     "metadata": {},
     "output_type": "execute_result"
    }
   ],
   "source": [
    "post_punctuation"
   ]
  },
  {
   "cell_type": "code",
   "execution_count": null,
   "id": "98d0ee44",
   "metadata": {},
   "outputs": [],
   "source": []
  }
 ],
 "metadata": {
  "kernelspec": {
   "display_name": "Python 3",
   "language": "python",
   "name": "python3"
  },
  "language_info": {
   "codemirror_mode": {
    "name": "ipython",
    "version": 3
   },
   "file_extension": ".py",
   "mimetype": "text/x-python",
   "name": "python",
   "nbconvert_exporter": "python",
   "pygments_lexer": "ipython3",
   "version": "3.7.7"
  }
 },
 "nbformat": 4,
 "nbformat_minor": 5
}
